{
 "cells": [
  {
   "cell_type": "markdown",
   "id": "6c76fa4c",
   "metadata": {},
   "source": [
    "Dataset saved locally in the data folder"
   ]
  },
  {
   "cell_type": "code",
   "execution_count": 21,
   "id": "685bde51",
   "metadata": {},
   "outputs": [
    {
     "name": "stdout",
     "output_type": "stream",
     "text": [
      "Cleaned dataset is ready. It has 358277 rows and 8 columns\n"
     ]
    }
   ],
   "source": [
    "from pathlib import Path\n",
    "import pandas as pd\n",
    "\n",
    "project_root = Path.cwd().parent \n",
    "data_path = Path(\"/home/alyona/personal_projects/foil_case_study/data/transactions.csv\")\n",
    "\n",
    "df = pd.read_csv(data_path, parse_dates=[\"InvoiceDate\"])\n",
    "print(f'Cleaned dataset is ready. It has {df.shape[0]} rows and {df.shape[1]} columns')"
   ]
  },
  {
   "cell_type": "markdown",
   "id": "afbe40b5",
   "metadata": {},
   "source": [
    "# Column types and missing values"
   ]
  },
  {
   "cell_type": "code",
   "execution_count": 22,
   "id": "85424df3",
   "metadata": {},
   "outputs": [
    {
     "name": "stdout",
     "output_type": "stream",
     "text": [
      "<class 'pandas.core.frame.DataFrame'>\n",
      "RangeIndex: 358277 entries, 0 to 358276\n",
      "Data columns (total 8 columns):\n",
      " #   Column       Non-Null Count   Dtype         \n",
      "---  ------       --------------   -----         \n",
      " 0   InvoiceNo    358277 non-null  int64         \n",
      " 1   StockCode    358277 non-null  int64         \n",
      " 2   Description  358277 non-null  object        \n",
      " 3   Quantity     358277 non-null  int64         \n",
      " 4   InvoiceDate  358277 non-null  datetime64[ns]\n",
      " 5   UnitPrice    358277 non-null  float64       \n",
      " 6   CustomerID   358277 non-null  int64         \n",
      " 7   Country      358277 non-null  object        \n",
      "dtypes: datetime64[ns](1), float64(1), int64(4), object(2)\n",
      "memory usage: 21.9+ MB\n"
     ]
    }
   ],
   "source": [
    "df.info()          "
   ]
  },
  {
   "cell_type": "markdown",
   "id": "9338d39e",
   "metadata": {},
   "source": [
    "Overall observations:\n",
    "- Column types:\n",
    "    - Object (2): Description, Country\n",
    "    - Numeric - float (1): UnitPrice \n",
    "    - Numeric - int64 (5): InvoiceNo, StockCode,  Quantity,  CustomerID \n",
    "    - Datetime - 1: InvoiceDate \n",
    "- Memory usage: 31.9 MB"
   ]
  },
  {
   "cell_type": "code",
   "execution_count": 24,
   "id": "1d637c9b",
   "metadata": {},
   "outputs": [
    {
     "name": "stdout",
     "output_type": "stream",
     "text": [
      "Missing values per column count\n",
      "InvoiceNo      0\n",
      "StockCode      0\n",
      "Description    0\n",
      "Quantity       0\n",
      "InvoiceDate    0\n",
      "UnitPrice      0\n",
      "CustomerID     0\n",
      "Country        0\n",
      "dtype: int64\n"
     ]
    }
   ],
   "source": [
    "print('Missing values per column count')\n",
    "print(df.isnull().sum())"
   ]
  },
  {
   "cell_type": "markdown",
   "id": "efce4016",
   "metadata": {},
   "source": [
    "Missing values observation - there are no missing values in the dataset\n"
   ]
  },
  {
   "cell_type": "markdown",
   "id": "82bc3c41",
   "metadata": {},
   "source": [
    "Completeness check"
   ]
  },
  {
   "cell_type": "code",
   "execution_count": 25,
   "id": "a3b25c60",
   "metadata": {},
   "outputs": [
    {
     "name": "stdout",
     "output_type": "stream",
     "text": [
      "Overall completeness measuring all data points: 100.00%\n"
     ]
    }
   ],
   "source": [
    "overall_completeness = df.notnull().sum().sum() / df.size * 100\n",
    "print(f\"Overall completeness measuring all data points: {overall_completeness:.2f}%\")\n"
   ]
  },
  {
   "cell_type": "markdown",
   "id": "1c0cf45e",
   "metadata": {},
   "source": [
    "Duplicates check"
   ]
  },
  {
   "cell_type": "code",
   "execution_count": 26,
   "id": "b347ecba",
   "metadata": {},
   "outputs": [
    {
     "name": "stdout",
     "output_type": "stream",
     "text": [
      "Number of completely duplicated rows: 0\n"
     ]
    }
   ],
   "source": [
    "duplicate_count = df.duplicated().sum()\n",
    "print(f\"Number of completely duplicated rows: {duplicate_count}\")"
   ]
  },
  {
   "cell_type": "markdown",
   "id": "966717e9",
   "metadata": {},
   "source": [
    "# Anomalies investigation"
   ]
  },
  {
   "cell_type": "code",
   "execution_count": 29,
   "id": "6721dae3",
   "metadata": {},
   "outputs": [
    {
     "data": {
      "text/html": [
       "<div>\n",
       "<style scoped>\n",
       "    .dataframe tbody tr th:only-of-type {\n",
       "        vertical-align: middle;\n",
       "    }\n",
       "\n",
       "    .dataframe tbody tr th {\n",
       "        vertical-align: top;\n",
       "    }\n",
       "\n",
       "    .dataframe thead th {\n",
       "        text-align: right;\n",
       "    }\n",
       "</style>\n",
       "<table border=\"1\" class=\"dataframe\">\n",
       "  <thead>\n",
       "    <tr style=\"text-align: right;\">\n",
       "      <th></th>\n",
       "      <th>Quantity</th>\n",
       "      <th>UnitPrice</th>\n",
       "    </tr>\n",
       "  </thead>\n",
       "  <tbody>\n",
       "    <tr>\n",
       "      <th>count</th>\n",
       "      <td>358277.000000</td>\n",
       "      <td>358277.000000</td>\n",
       "    </tr>\n",
       "    <tr>\n",
       "      <th>mean</th>\n",
       "      <td>13.227475</td>\n",
       "      <td>2.892641</td>\n",
       "    </tr>\n",
       "    <tr>\n",
       "      <th>std</th>\n",
       "      <td>188.617674</td>\n",
       "      <td>4.383010</td>\n",
       "    </tr>\n",
       "    <tr>\n",
       "      <th>min</th>\n",
       "      <td>1.000000</td>\n",
       "      <td>0.040000</td>\n",
       "    </tr>\n",
       "    <tr>\n",
       "      <th>25%</th>\n",
       "      <td>2.000000</td>\n",
       "      <td>1.250000</td>\n",
       "    </tr>\n",
       "    <tr>\n",
       "      <th>50%</th>\n",
       "      <td>6.000000</td>\n",
       "      <td>1.790000</td>\n",
       "    </tr>\n",
       "    <tr>\n",
       "      <th>75%</th>\n",
       "      <td>12.000000</td>\n",
       "      <td>3.750000</td>\n",
       "    </tr>\n",
       "    <tr>\n",
       "      <th>max</th>\n",
       "      <td>80995.000000</td>\n",
       "      <td>649.500000</td>\n",
       "    </tr>\n",
       "  </tbody>\n",
       "</table>\n",
       "</div>"
      ],
      "text/plain": [
       "            Quantity      UnitPrice\n",
       "count  358277.000000  358277.000000\n",
       "mean       13.227475       2.892641\n",
       "std       188.617674       4.383010\n",
       "min         1.000000       0.040000\n",
       "25%         2.000000       1.250000\n",
       "50%         6.000000       1.790000\n",
       "75%        12.000000       3.750000\n",
       "max     80995.000000     649.500000"
      ]
     },
     "execution_count": 29,
     "metadata": {},
     "output_type": "execute_result"
    }
   ],
   "source": [
    "numeric_cols = [\"Quantity\", \"UnitPrice\"]\n",
    "df[numeric_cols].describe()"
   ]
  },
  {
   "cell_type": "markdown",
   "id": "859a260e",
   "metadata": {},
   "source": [
    "Anomalies observation on numerical columns:\n",
    "- Quantity: mean is 13, but the standard deviation is huge (188!), and max is 80,995. That’s a massive outlier—likely a data error or a bulk/cancelled order you might want to flag.\n",
    "- UnitPrice: mean around £2.89, max £649.50—again, probably a few very expensive items skewing the max.\n",
    "\n",
    "Next Steps:\n",
    "Outlier detection for high Quantity and UnitPrice values: You might want to cap or filter extreme outliers."
   ]
  },
  {
   "cell_type": "code",
   "execution_count": 38,
   "id": "69efd17d",
   "metadata": {},
   "outputs": [
    {
     "data": {
      "image/png": "[encoded data removed]",
      "text/plain": [
       "<Figure size 1400x500 with 2 Axes>"
      ]
     },
     "metadata": {},
     "output_type": "display_data"
    }
   ],
   "source": [
    "import pandas as pd\n",
    "import matplotlib.pyplot as plt\n",
    "\n",
    "data_path = \"/home/alyona/personal_projects/foil_case_study/data/transactions.csv\"\n",
    "df = pd.read_csv(data_path, parse_dates=[\"InvoiceDate\"])\n",
    "\n",
    "numeric_cols = [\"Quantity\", \"UnitPrice\"]\n",
    "\n",
    "plt.figure(figsize=(14, 5))\n",
    "\n",
    "for i, col in enumerate(numeric_cols, 1):\n",
    "    plt.subplot(1, 2, i)\n",
    "    plt.hist(df[col], bins=50, color='skyblue', edgecolor='black', log=True)\n",
    "    plt.title(f\"Histogram of {col}\")\n",
    "    plt.xlabel(col)\n",
    "    plt.ylabel(\"Count (log scale)\")\n",
    "\n",
    "plt.tight_layout()\n",
    "plt.show()"
   ]
  },
  {
   "cell_type": "code",
   "execution_count": null,
   "id": "ce464056",
   "metadata": {},
   "outputs": [
    {
     "name": "stdout",
     "output_type": "stream",
     "text": [
      "Transactions with unusually high unit prices:\n",
      "        InvoiceNo  StockCode                     Description  Quantity  \\\n",
      "3200       536835      22655     VINTAGE RED KITCHEN CABINET         1   \n",
      "18697      539080      22655     VINTAGE RED KITCHEN CABINET         1   \n",
      "27804      540647      22655     VINTAGE RED KITCHEN CABINET         1   \n",
      "44693      543253      22655     VINTAGE RED KITCHEN CABINET         1   \n",
      "68239      546480      22656    VINTAGE BLUE KITCHEN CABINET         1   \n",
      "78160      547814      22656    VINTAGE BLUE KITCHEN CABINET         1   \n",
      "102707     551393      22656    VINTAGE BLUE KITCHEN CABINET         1   \n",
      "126576     554836      22655     VINTAGE RED KITCHEN CABINET         1   \n",
      "137807     556444      22502  PICNIC BASKET WICKER 60 PIECES        60   \n",
      "137808     556446      22502  PICNIC BASKET WICKER 60 PIECES         1   \n",
      "\n",
      "               InvoiceDate  UnitPrice  CustomerID         Country  \n",
      "3200   2010-12-02 18:06:00      295.0       13145  United Kingdom  \n",
      "18697  2010-12-16 08:41:00      295.0       16607  United Kingdom  \n",
      "27804  2011-01-10 14:57:00      295.0       17406  United Kingdom  \n",
      "44693  2011-02-04 15:32:00      295.0       14842  United Kingdom  \n",
      "68239  2011-03-14 11:38:00      295.0       13452  United Kingdom  \n",
      "78160  2011-03-25 14:19:00      295.0       13452  United Kingdom  \n",
      "102707 2011-04-28 12:22:00      295.0       14973  United Kingdom  \n",
      "126576 2011-05-26 16:25:00      295.0       13015  United Kingdom  \n",
      "137807 2011-06-10 15:28:00      649.5       15098  United Kingdom  \n",
      "137808 2011-06-10 15:33:00      649.5       15098  United Kingdom  \n"
     ]
    }
   ],
   "source": [
    "high_unit_price_threshold = 250\n",
    "outliers = df[df[\"UnitPrice\"] > high_unit_price_threshold]\n",
    "\n",
    "print(\"Transactions with unusually high unit prices:\")\n",
    "print(outliers)"
   ]
  },
  {
   "cell_type": "markdown",
   "id": "f526182b",
   "metadata": {},
   "source": [
    "Observations on High Unit Price Transactions\n",
    "\n",
    "- Most high-priced transactions involve **VINTAGE RED/BLUE KITCHEN CABINETS** priced at £295 each.\n",
    "- There are two transactions for **PICNIC BASKET WICKER 60 PIECES** priced at £649.5 each, which makes sense if it's price per 60 baskets\n",
    "- Quantity is usually 1, except for one basket transaction with 60 units - need to check if this transaction was cancelled\n",
    "- These appear to be legitimate high-value items rather than errors"
   ]
  },
  {
   "cell_type": "code",
   "execution_count": 53,
   "id": "0e7bb36d",
   "metadata": {},
   "outputs": [
    {
     "name": "stdout",
     "output_type": "stream",
     "text": [
      "Transactions with unusually high quantities:\n",
      "        InvoiceNo  StockCode                     Description  Quantity  \\\n",
      "32261      541431      23166  MEDIUM CERAMIC TOP STORAGE JAR     74215   \n",
      "357850     581483      23843     PAPER CRAFT , LITTLE BIRDIE     80995   \n",
      "\n",
      "               InvoiceDate  UnitPrice  CustomerID         Country  \n",
      "32261  2011-01-18 10:01:00       1.04       12346  United Kingdom  \n",
      "357850 2011-12-09 09:15:00       2.08       16446  United Kingdom  \n"
     ]
    }
   ],
   "source": [
    "high_qty_threshold = 5000\n",
    "outliers = df[df[\"Quantity\"] > high_qty_threshold]\n",
    "\n",
    "print(\"Transactions with unusually high quantities:\")\n",
    "print(outliers)"
   ]
  },
  {
   "cell_type": "markdown",
   "id": "0f91d8e0",
   "metadata": {},
   "source": [
    "Observations on High-Quantity Transactions\n",
    "\n",
    "- Two transactions stand out with extremely high quantities:\n",
    "  1. **MEDIUM CERAMIC TOP STORAGE JAR** – 74,215 units at £1.04 each.\n",
    "  2. **PAPER CRAFT, LITTLE BIRDIE** – 80,995 units at £2.08 each.\n",
    "- Both transactions are for **UK customers**.\n",
    "- The quantities are unusually high compared to typical orders (median quantity is 6), suggesting potential **data entry errors** or **bulk/warehouse-level transactions**.\n",
    "- These outliers should be reviewed before any analytical aggregation or reporting to avoid skewing results.\n"
   ]
  }
 ],
 "metadata": {
  "kernelspec": {
   "display_name": "venv",
   "language": "python",
   "name": "python3"
  },
  "language_info": {
   "codemirror_mode": {
    "name": "ipython",
    "version": 3
   },
   "file_extension": ".py",
   "mimetype": "text/x-python",
   "name": "python",
   "nbconvert_exporter": "python",
   "pygments_lexer": "ipython3",
   "version": "3.13.2"
  }
 },
 "nbformat": 4,
 "nbformat_minor": 5
}
